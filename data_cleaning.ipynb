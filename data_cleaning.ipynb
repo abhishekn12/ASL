{
 "cells": [
  {
   "cell_type": "code",
   "execution_count": 48,
   "metadata": {},
   "outputs": [],
   "source": [
    "import pandas as pd\n",
    "import numpy as np\n",
    "import json\n",
    "import os\n",
    "import cv2\n",
    "import numpy as np\n",
    "import matplotlib.pyplot as plt"
   ]
  },
  {
   "cell_type": "code",
   "execution_count": 49,
   "metadata": {},
   "outputs": [
    {
     "data": {
      "text/plain": [
       "2000"
      ]
     },
     "execution_count": 49,
     "metadata": {},
     "output_type": "execute_result"
    }
   ],
   "source": [
    "file = open(r\"C:\\\\DISK_D\\\\Personal\\\\ASL\\\\archive\\\\WLASL_v0.3.json\")\n",
    "data = json.load(file)\n",
    "len(data)"
   ]
  },
  {
   "cell_type": "code",
   "execution_count": 82,
   "metadata": {},
   "outputs": [],
   "source": [
    "total_video = 0\n",
    "train = []\n",
    "test = []\n",
    "val = []\n",
    "total_data = []"
   ]
  },
  {
   "cell_type": "code",
   "execution_count": 83,
   "metadata": {},
   "outputs": [],
   "source": [
    "for i in range(len(data)):\n",
    "    gloss = data[i][\"gloss\"]\n",
    "    instances = data[i][\"instances\"]\n",
    "    #print(len(instances),i)\n",
    "    total_video += len(instances)\n",
    "    for instance in instances:\n",
    "        total_data.append([instance[\"video_id\"]+\".mp4\",gloss,instance[\"split\"]])\n",
    "        if instance[\"split\"] == \"train\":\n",
    "            video_id = instance[\"video_id\"]\n",
    "            split = instance[\"split\"]\n",
    "            bboxes = instance[\"bbox\"]\n",
    "            train.append({\"video_id\":video_id+\".mp4\",\"gloss\":gloss,\"bbox\":bboxes})\n",
    "        if instance[\"split\"] == \"test\":\n",
    "            video_id = instance[\"video_id\"]\n",
    "            split = instance[\"split\"]\n",
    "            bboxes = instance[\"bbox\"]\n",
    "            test.append({\"video_id\":video_id+\".mp4\",\"gloss\":gloss,\"bbox\":bboxes})\n",
    "        if instance[\"split\"] == \"val\":\n",
    "            video_id = instance[\"video_id\"]\n",
    "            split = instance[\"split\"]\n",
    "            bboxes = instance[\"bbox\"]\n",
    "            val.append({\"video_id\":video_id+\".mp4\",\"gloss\":gloss,\"bbox\":bboxes})\n",
    "\n"
   ]
  },
  {
   "cell_type": "code",
   "execution_count": 84,
   "metadata": {},
   "outputs": [
    {
     "data": {
      "text/plain": [
       "[{'video_id': '69241.mp4', 'gloss': 'book', 'bbox': [385, 37, 885, 720]},\n",
       " {'video_id': '65225.mp4', 'gloss': 'book', 'bbox': [190, 25, 489, 370]}]"
      ]
     },
     "execution_count": 84,
     "metadata": {},
     "output_type": "execute_result"
    }
   ],
   "source": [
    "train[:2]"
   ]
  },
  {
   "cell_type": "code",
   "execution_count": 85,
   "metadata": {},
   "outputs": [
    {
     "data": {
      "text/plain": [
       "[['69241.mp4', 'book', 'train'],\n",
       " ['65225.mp4', 'book', 'train'],\n",
       " ['68011.mp4', 'book', 'train'],\n",
       " ['68208.mp4', 'book', 'train'],\n",
       " ['68012.mp4', 'book', 'train']]"
      ]
     },
     "execution_count": 85,
     "metadata": {},
     "output_type": "execute_result"
    }
   ],
   "source": [
    "total_data[:5]"
   ]
  },
  {
   "cell_type": "code",
   "execution_count": 39,
   "metadata": {},
   "outputs": [
    {
     "data": {
      "text/plain": [
       "(14289, 2878, 3916, 21083, 21083)"
      ]
     },
     "execution_count": 39,
     "metadata": {},
     "output_type": "execute_result"
    }
   ],
   "source": [
    "len(train),len(test),len(val),len(train)+len(test)+len(val),total_video"
   ]
  },
  {
   "cell_type": "code",
   "execution_count": 63,
   "metadata": {},
   "outputs": [
    {
     "data": {
      "text/plain": [
       "'69241.mp4'"
      ]
     },
     "execution_count": 63,
     "metadata": {},
     "output_type": "execute_result"
    }
   ],
   "source": [
    "total_data[0][0]"
   ]
  },
  {
   "cell_type": "code",
   "execution_count": 86,
   "metadata": {},
   "outputs": [
    {
     "data": {
      "text/plain": [
       "(9103, ['65225.mp4', '68011.mp4', '68208.mp4', '68012.mp4', '70212.mp4'])"
      ]
     },
     "execution_count": 86,
     "metadata": {},
     "output_type": "execute_result"
    }
   ],
   "source": [
    "absent_video_ids = []\n",
    "for item in total_data:\n",
    "    vid_path = os.path.join(r\"C:\\\\DISK_D\\\\Personal\\\\ASL\\\\archive\\\\videos\",item[0])\n",
    "    if os.path.exists(vid_path):\n",
    "        pass\n",
    "    else:\n",
    "        #print(item[\"video_id\"], \" Doesn't exist\")\n",
    "        absent_video_ids.append(item[0])\n",
    "\n",
    "len(absent_video_ids),absent_video_ids[:5]"
   ]
  },
  {
   "cell_type": "code",
   "execution_count": 87,
   "metadata": {},
   "outputs": [
    {
     "name": "stdout",
     "output_type": "stream",
     "text": [
      "11980 21083\n"
     ]
    }
   ],
   "source": [
    "# Create a set from list2 for faster lookup\n",
    "set_list2 = set(absent_video_ids)\n",
    "\n",
    "# Remove items from list1 if the first element is present in set_list2\n",
    "new_list1 = [item for item in total_data if item[0] not in set_list2]\n",
    "\n",
    "print(len(new_list1),len(total_data))"
   ]
  },
  {
   "cell_type": "code",
   "execution_count": 89,
   "metadata": {},
   "outputs": [
    {
     "data": {
      "text/html": [
       "<div>\n",
       "<style scoped>\n",
       "    .dataframe tbody tr th:only-of-type {\n",
       "        vertical-align: middle;\n",
       "    }\n",
       "\n",
       "    .dataframe tbody tr th {\n",
       "        vertical-align: top;\n",
       "    }\n",
       "\n",
       "    .dataframe thead th {\n",
       "        text-align: right;\n",
       "    }\n",
       "</style>\n",
       "<table border=\"1\" class=\"dataframe\">\n",
       "  <thead>\n",
       "    <tr style=\"text-align: right;\">\n",
       "      <th></th>\n",
       "      <th>video_id</th>\n",
       "      <th>gloss</th>\n",
       "      <th>split</th>\n",
       "    </tr>\n",
       "  </thead>\n",
       "  <tbody>\n",
       "    <tr>\n",
       "      <th>0</th>\n",
       "      <td>69241.mp4</td>\n",
       "      <td>book</td>\n",
       "      <td>train</td>\n",
       "    </tr>\n",
       "    <tr>\n",
       "      <th>1</th>\n",
       "      <td>07069.mp4</td>\n",
       "      <td>book</td>\n",
       "      <td>train</td>\n",
       "    </tr>\n",
       "    <tr>\n",
       "      <th>2</th>\n",
       "      <td>07068.mp4</td>\n",
       "      <td>book</td>\n",
       "      <td>train</td>\n",
       "    </tr>\n",
       "    <tr>\n",
       "      <th>3</th>\n",
       "      <td>07070.mp4</td>\n",
       "      <td>book</td>\n",
       "      <td>train</td>\n",
       "    </tr>\n",
       "    <tr>\n",
       "      <th>4</th>\n",
       "      <td>07099.mp4</td>\n",
       "      <td>book</td>\n",
       "      <td>val</td>\n",
       "    </tr>\n",
       "  </tbody>\n",
       "</table>\n",
       "</div>"
      ],
      "text/plain": [
       "    video_id gloss  split\n",
       "0  69241.mp4  book  train\n",
       "1  07069.mp4  book  train\n",
       "2  07068.mp4  book  train\n",
       "3  07070.mp4  book  train\n",
       "4  07099.mp4  book    val"
      ]
     },
     "execution_count": 89,
     "metadata": {},
     "output_type": "execute_result"
    }
   ],
   "source": [
    "video_df = pd.DataFrame(new_list1,columns=[\"video_id\",\"gloss\",\"split\"])\n",
    "video_df.head()"
   ]
  },
  {
   "cell_type": "code",
   "execution_count": 110,
   "metadata": {},
   "outputs": [
    {
     "data": {
      "text/html": [
       "<div>\n",
       "<style scoped>\n",
       "    .dataframe tbody tr th:only-of-type {\n",
       "        vertical-align: middle;\n",
       "    }\n",
       "\n",
       "    .dataframe tbody tr th {\n",
       "        vertical-align: top;\n",
       "    }\n",
       "\n",
       "    .dataframe thead th {\n",
       "        text-align: right;\n",
       "    }\n",
       "</style>\n",
       "<table border=\"1\" class=\"dataframe\">\n",
       "  <thead>\n",
       "    <tr style=\"text-align: right;\">\n",
       "      <th></th>\n",
       "      <th>video_id</th>\n",
       "      <th>gloss</th>\n",
       "      <th>split</th>\n",
       "    </tr>\n",
       "  </thead>\n",
       "  <tbody>\n",
       "    <tr>\n",
       "      <th>5440</th>\n",
       "      <td>24057.mp4</td>\n",
       "      <td>garage</td>\n",
       "      <td>train</td>\n",
       "    </tr>\n",
       "    <tr>\n",
       "      <th>5441</th>\n",
       "      <td>24059.mp4</td>\n",
       "      <td>garage</td>\n",
       "      <td>train</td>\n",
       "    </tr>\n",
       "    <tr>\n",
       "      <th>5442</th>\n",
       "      <td>24063.mp4</td>\n",
       "      <td>garage</td>\n",
       "      <td>val</td>\n",
       "    </tr>\n",
       "    <tr>\n",
       "      <th>6869</th>\n",
       "      <td>41164.mp4</td>\n",
       "      <td>parents</td>\n",
       "      <td>train</td>\n",
       "    </tr>\n",
       "    <tr>\n",
       "      <th>6870</th>\n",
       "      <td>41165.mp4</td>\n",
       "      <td>parents</td>\n",
       "      <td>val</td>\n",
       "    </tr>\n",
       "    <tr>\n",
       "      <th>...</th>\n",
       "      <td>...</td>\n",
       "      <td>...</td>\n",
       "      <td>...</td>\n",
       "    </tr>\n",
       "    <tr>\n",
       "      <th>11971</th>\n",
       "      <td>62783.mp4</td>\n",
       "      <td>weigh</td>\n",
       "      <td>train</td>\n",
       "    </tr>\n",
       "    <tr>\n",
       "      <th>11972</th>\n",
       "      <td>62785.mp4</td>\n",
       "      <td>weigh</td>\n",
       "      <td>train</td>\n",
       "    </tr>\n",
       "    <tr>\n",
       "      <th>11977</th>\n",
       "      <td>63186.mp4</td>\n",
       "      <td>whistle</td>\n",
       "      <td>train</td>\n",
       "    </tr>\n",
       "    <tr>\n",
       "      <th>11978</th>\n",
       "      <td>63188.mp4</td>\n",
       "      <td>whistle</td>\n",
       "      <td>train</td>\n",
       "    </tr>\n",
       "    <tr>\n",
       "      <th>11979</th>\n",
       "      <td>63190.mp4</td>\n",
       "      <td>whistle</td>\n",
       "      <td>train</td>\n",
       "    </tr>\n",
       "  </tbody>\n",
       "</table>\n",
       "<p>228 rows × 3 columns</p>\n",
       "</div>"
      ],
      "text/plain": [
       "        video_id    gloss  split\n",
       "5440   24057.mp4   garage  train\n",
       "5441   24059.mp4   garage  train\n",
       "5442   24063.mp4   garage    val\n",
       "6869   41164.mp4  parents  train\n",
       "6870   41165.mp4  parents    val\n",
       "...          ...      ...    ...\n",
       "11971  62783.mp4    weigh  train\n",
       "11972  62785.mp4    weigh  train\n",
       "11977  63186.mp4  whistle  train\n",
       "11978  63188.mp4  whistle  train\n",
       "11979  63190.mp4  whistle  train\n",
       "\n",
       "[228 rows x 3 columns]"
      ]
     },
     "execution_count": 110,
     "metadata": {},
     "output_type": "execute_result"
    }
   ],
   "source": [
    "unique_values = video_df[\"gloss\"].value_counts()\n",
    "less_video_gloss_list = unique_values[unique_values==3].index.tolist()\n",
    "less_video_data = video_df[video_df[\"gloss\"].isin(less_video_gloss_list)]\n",
    "less_video_data"
   ]
  },
  {
   "cell_type": "code",
   "execution_count": null,
   "metadata": {},
   "outputs": [],
   "source": [
    "train_absent_video_ids = []\n",
    "for item in train:\n",
    "    vid_path = os.path.join(r\"C:\\\\DISK_D\\\\Personal\\\\ASL\\\\archive\\\\videos\",item[\"video_id\"])\n",
    "    if os.path.exists(vid_path):\n",
    "        pass\n",
    "    else:\n",
    "        print(item[\"video_id\"], \" Doesn't exist\")\n",
    "        train_absent_video_ids.append(item[\"video_id\"])\n",
    "\n",
    "test_absent_video_ids = []\n",
    "for item in test:\n",
    "    vid_path = os.path.join(r\"C:\\\\DISK_D\\\\Personal\\\\ASL\\\\archive\\\\videos\",item[\"video_id\"])\n",
    "    if os.path.exists(vid_path):\n",
    "        pass\n",
    "    else:\n",
    "        print(item[\"video_id\"], \" Doesn't exist\")\n",
    "        test_absent_video_ids.append(item[\"video_id\"])\n",
    "\n",
    "val_absent_video_ids = []\n",
    "for item in val:\n",
    "    vid_path = os.path.join(r\"C:\\\\DISK_D\\\\Personal\\\\ASL\\\\archive\\\\videos\",item[\"video_id\"])\n",
    "    if os.path.exists(vid_path):\n",
    "        pass\n",
    "    else:\n",
    "        print(item[\"video_id\"], \" Doesn't exist\")\n",
    "        val_absent_video_ids.append(item[\"video_id\"])"
   ]
  },
  {
   "cell_type": "code",
   "execution_count": 44,
   "metadata": {},
   "outputs": [
    {
     "data": {
      "text/plain": [
       "(5976, 1464, 1663)"
      ]
     },
     "execution_count": 44,
     "metadata": {},
     "output_type": "execute_result"
    }
   ],
   "source": [
    "len(train_absent_video_ids),len(test_absent_video_ids),len(val_absent_video_ids)"
   ]
  },
  {
   "cell_type": "code",
   "execution_count": 46,
   "metadata": {},
   "outputs": [
    {
     "name": "stdout",
     "output_type": "stream",
     "text": [
      "File exists\n"
     ]
    }
   ],
   "source": [
    "img_id = 500\n",
    "video_path = os.path.join(r\"C:\\\\DISK_D\\\\Personal\\\\ASL\\\\archive\\\\videos\",train[img_id][\"video_id\"])\n",
    "bbox = train[img_id][\"bbox\"]\n",
    "bbox\n",
    "if os.path.exists(video_path):\n",
    "    print(\"File exists\")\n",
    "else:\n",
    "    print(\"File doesn't exist\")"
   ]
  },
  {
   "cell_type": "code",
   "execution_count": 47,
   "metadata": {},
   "outputs": [],
   "source": [
    "cap = cv2.VideoCapture(video_path)\n",
    "if cap.isOpened():\n",
    "    while cap.isOpened():\n",
    "        ret, frame = cap.read()\n",
    "        if ret:\n",
    "            # Draw bbox\n",
    "            cv2.rectangle(frame, (bbox[0], bbox[1]), (bbox[0] + bbox[2], bbox[1] + bbox[3]), (0, 255, 0), 2)\n",
    "            # Display the frame\n",
    "            cv2.imshow('Video', frame)\n",
    "\n",
    "            # Press 'q' to exit the loop\n",
    "            if cv2.waitKey(25) & 0xFF == ord('q'):\n",
    "                break\n",
    "        else:\n",
    "            break\n",
    "\n",
    "cap.release()\n",
    "cv2.destroyAllWindows()"
   ]
  },
  {
   "cell_type": "code",
   "execution_count": null,
   "metadata": {},
   "outputs": [],
   "source": []
  }
 ],
 "metadata": {
  "kernelspec": {
   "display_name": "Python 3",
   "language": "python",
   "name": "python3"
  },
  "language_info": {
   "codemirror_mode": {
    "name": "ipython",
    "version": 3
   },
   "file_extension": ".py",
   "mimetype": "text/x-python",
   "name": "python",
   "nbconvert_exporter": "python",
   "pygments_lexer": "ipython3",
   "version": "3.11.1"
  }
 },
 "nbformat": 4,
 "nbformat_minor": 2
}
